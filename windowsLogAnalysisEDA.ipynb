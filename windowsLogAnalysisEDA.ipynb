{
 "cells": [
  {
   "cell_type": "markdown",
   "source": [
    "# **EDA analysis of Windows Log**"
   ],
   "metadata": {
    "id": "uB5Qn5NCa8JX"
   },
   "id": "uB5Qn5NCa8JX"
  },
  {
   "cell_type": "code",
   "id": "initial_id",
   "metadata": {
    "collapsed": true,
    "ExecuteTime": {
     "end_time": "2025-05-21T05:51:43.095132Z",
     "start_time": "2025-05-21T05:51:43.092014Z"
    },
    "id": "initial_id"
   },
   "source": [
    "# EDA analysis of Windows Log"
   ],
   "outputs": [],
   "execution_count": 1
  },
  {
   "metadata": {
    "id": "192d3d3c22a7f9ca",
    "ExecuteTime": {
     "end_time": "2025-05-21T06:03:07.040840Z",
     "start_time": "2025-05-21T06:03:07.036510Z"
    }
   },
   "cell_type": "code",
   "source": [
    "#imprting libraries\n",
    "import pandas as pd\n",
    "import matplotlib.pyplot as plt\n",
    "import seaborn as sns\n",
    "import os"
   ],
   "id": "192d3d3c22a7f9ca",
   "outputs": [],
   "execution_count": 1
  },
  {
   "metadata": {
    "ExecuteTime": {
     "end_time": "2025-05-21T06:03:34.140205Z",
     "start_time": "2025-05-21T06:03:34.109192Z"
    }
   },
   "cell_type": "code",
   "source": [
    "# configuring matplotlib for inline plotting means that the plots will be displayed in the notebook\n",
    "%matplotlib inline"
   ],
   "id": "92101889728e3c1f",
   "outputs": [],
   "execution_count": 2
  },
  {
   "metadata": {
    "ExecuteTime": {
     "end_time": "2025-05-21T06:08:40.843339Z",
     "start_time": "2025-05-21T06:08:40.838056Z"
    }
   },
   "cell_type": "code",
   "source": [
    "# configuring \n",
    "# defining base directory as current working directory\n",
    "base_dir = os.getcwd()\n",
    "# defining the path to the log file data .csv file\n",
    "log_file_path = os.path.join(base_dir,'data','WindowsEventLogs_Last30Days.csv')\n"
   ],
   "id": "e6e8c684c4a37ff2",
   "outputs": [],
   "execution_count": 7
  },
  {
   "metadata": {
    "ExecuteTime": {
     "end_time": "2025-05-21T06:08:41.454Z",
     "start_time": "2025-05-21T06:08:41.274171Z"
    }
   },
   "cell_type": "code",
   "source": [
    "# reading the log file data into a pandas dataframe\n",
    "log_df = pd.read_csv(log_file_path)\n",
    "print(log_df.head())"
   ],
   "id": "2dad7b8c0cfad43",
   "outputs": [
    {
     "name": "stdout",
     "output_type": "stream",
     "text": [
      "           TimeCreated     Id LevelDisplayName  \\\n",
      "0  21-05-2025 10:44:41  16384      Information   \n",
      "1  21-05-2025 10:44:11  16394      Information   \n",
      "2  21-05-2025 10:40:08      1      Information   \n",
      "3  21-05-2025 10:40:08      1      Information   \n",
      "4  21-05-2025 10:40:07      1      Information   \n",
      "\n",
      "                     ProviderName  \\\n",
      "0  Microsoft-Windows-Security-SPP   \n",
      "1  Microsoft-Windows-Security-SPP   \n",
      "2                 Universal Print   \n",
      "3                 Universal Print   \n",
      "4                 Universal Print   \n",
      "\n",
      "                                             Message      LogName  \n",
      "0  Successfully scheduled Software Protection ser...  Application  \n",
      "1             Offline downlevel migration succeeded.  Application  \n",
      "2  Initialization Successful. Enabled=false, Clou...  Application  \n",
      "3  Universal Print is not enabled in the user's t...  Application  \n",
      "4  Successfully received access_token for 0000000...  Application  \n"
     ]
    }
   ],
   "execution_count": 8
  },
  {
   "metadata": {},
   "cell_type": "markdown",
   "source": "we have dataframe with 6 columns and 49201 rows ",
   "id": "e0fb54d74607a1c"
  },
  {
   "metadata": {
    "ExecuteTime": {
     "end_time": "2025-05-21T06:10:35.110226Z",
     "start_time": "2025-05-21T06:10:35.106183Z"
    }
   },
   "cell_type": "code",
   "source": [
    "# checking the shape of the dataframe\n",
    "print(log_df.shape)"
   ],
   "id": "6c5a4fe5b0cd2b4b",
   "outputs": [
    {
     "name": "stdout",
     "output_type": "stream",
     "text": [
      "(49201, 6)\n"
     ]
    }
   ],
   "execution_count": 10
  },
  {
   "metadata": {},
   "cell_type": "markdown",
   "source": "we have columns TimeCreated, Id, LevelDisplayName, ProviderName, Message, LogName with data type as object except Id which is int64",
   "id": "f54be2daec141d81"
  },
  {
   "metadata": {
    "ExecuteTime": {
     "end_time": "2025-05-21T06:11:18.467053Z",
     "start_time": "2025-05-21T06:11:18.463185Z"
    }
   },
   "cell_type": "code",
   "source": [
    "# columns of dataframe\n",
    "print(log_df.columns)"
   ],
   "id": "8b2ad193cde3c6f0",
   "outputs": [
    {
     "name": "stdout",
     "output_type": "stream",
     "text": [
      "Index(['TimeCreated', 'Id', 'LevelDisplayName', 'ProviderName', 'Message',\n",
      "       'LogName'],\n",
      "      dtype='object')\n"
     ]
    }
   ],
   "execution_count": 11
  },
  {
   "metadata": {
    "ExecuteTime": {
     "end_time": "2025-05-21T06:13:23.550776Z",
     "start_time": "2025-05-21T06:13:23.543189Z"
    }
   },
   "cell_type": "code",
   "source": [
    "# checking the data types of the columns\n",
    "print(log_df.dtypes)"
   ],
   "id": "67cc4d74fa821780",
   "outputs": [
    {
     "name": "stdout",
     "output_type": "stream",
     "text": [
      "TimeCreated         object\n",
      "Id                   int64\n",
      "LevelDisplayName    object\n",
      "ProviderName        object\n",
      "Message             object\n",
      "LogName             object\n",
      "dtype: object\n"
     ]
    }
   ],
   "execution_count": 12
  },
  {
   "metadata": {
    "ExecuteTime": {
     "end_time": "2025-05-21T06:17:37.045460Z",
     "start_time": "2025-05-21T06:17:37.019997Z"
    }
   },
   "cell_type": "code",
   "source": [
    "# we will do data cleaning and data preprocessing\n",
    "\n",
    "# checking for null values in the dataframe\n",
    "# we will also print the row of the dataframe which has null values\n",
    "print(log_df[log_df.isnull().any(axis=1)])\n",
    "print(log_df.isnull().sum())"
   ],
   "id": "35bf1ba1f0b9d8d2",
   "outputs": [
    {
     "name": "stdout",
     "output_type": "stream",
     "text": [
      "               TimeCreated    Id LevelDisplayName              ProviderName  \\\n",
      "63     21-05-2025 10:30:40  9997      Information               Application   \n",
      "95     21-05-2025 10:29:11     0              NaN  RtkAudioUniversalService   \n",
      "96     21-05-2025 10:29:11     0              NaN           SynTPEnhService   \n",
      "108    21-05-2025 03:19:51     0              NaN  RtkAudioUniversalService   \n",
      "115    21-05-2025 03:19:49     0              NaN           SynTPEnhService   \n",
      "...                    ...   ...              ...                       ...   \n",
      "49127  22-04-2025 02:30:55  7021      Information                  Netwtw14   \n",
      "49159  21-04-2025 22:43:44  7021      Information                  Netwtw14   \n",
      "49161  21-04-2025 22:41:14  7021      Information                  Netwtw14   \n",
      "49166  21-04-2025 22:37:56  7021      Information                  Netwtw14   \n",
      "49195  21-04-2025 19:43:04  7021      Information                  Netwtw14   \n",
      "\n",
      "      Message      LogName  \n",
      "63        NaN  Application  \n",
      "95        NaN  Application  \n",
      "96        NaN  Application  \n",
      "108       NaN  Application  \n",
      "115       NaN  Application  \n",
      "...       ...          ...  \n",
      "49127     NaN       System  \n",
      "49159     NaN       System  \n",
      "49161     NaN       System  \n",
      "49166     NaN       System  \n",
      "49195     NaN       System  \n",
      "\n",
      "[970 rows x 6 columns]\n",
      "TimeCreated           0\n",
      "Id                    0\n",
      "LevelDisplayName    345\n",
      "ProviderName          0\n",
      "Message             970\n",
      "LogName               0\n",
      "dtype: int64\n"
     ]
    }
   ],
   "execution_count": 15
  },
  {
   "metadata": {},
   "cell_type": "markdown",
   "source": "after removing the null values we will have 48231 rows and 6 columns ",
   "id": "822a3ce662ae55c5"
  },
  {
   "metadata": {
    "ExecuteTime": {
     "end_time": "2025-05-21T06:23:02.384816Z",
     "start_time": "2025-05-21T06:23:02.347792Z"
    }
   },
   "cell_type": "code",
   "source": [
    "# we will drop the null values from the dataframe\n",
    "log_df = log_df.dropna()\n",
    "# checking the shape of the dataframe after dropping null values\n",
    "print(log_df.shape)\n",
    "print(log_df.isnull().sum())\n"
   ],
   "id": "f0c6f67b281068ad",
   "outputs": [
    {
     "name": "stdout",
     "output_type": "stream",
     "text": [
      "(48231, 6)\n",
      "TimeCreated         0\n",
      "Id                  0\n",
      "LevelDisplayName    0\n",
      "ProviderName        0\n",
      "Message             0\n",
      "LogName             0\n",
      "dtype: int64\n"
     ]
    }
   ],
   "execution_count": 19
  },
  {
   "metadata": {},
   "cell_type": "code",
   "outputs": [],
   "execution_count": null,
   "source": "",
   "id": "80a9beb687e4ec33"
  },
  {
   "metadata": {},
   "cell_type": "markdown",
   "source": "",
   "id": "751b3004a4f8c3ac"
  },
  {
   "metadata": {},
   "cell_type": "markdown",
   "source": "# **now we will do Analysis of the data with different columns and their values in diffent ways**",
   "id": "1bca61e5959ef015"
  },
  {
   "metadata": {},
   "cell_type": "markdown",
   "source": [
    "first we will do analysis of the data with respect to TimeCreated column\n",
    "# *Timestamp Analysis*"
   ],
   "id": "e1da9c5e010710bb"
  },
  {
   "metadata": {
    "ExecuteTime": {
     "end_time": "2025-05-21T06:34:00.260745Z",
     "start_time": "2025-05-21T06:34:00.222288Z"
    }
   },
   "cell_type": "code",
   "source": [
    "# converting the TimeCreated column to datetime format\n",
    "log_df= log_df.copy()\n",
    "log_df['TimeCreated'] = pd.to_datetime(\n",
    "    log_df['TimeCreated'],\n",
    "    format='%d-%m-%Y %H:%M:%S'\n",
    ") #year/month/day hour/minute/\n",
    "print(log_df['TimeCreated'].head())\n",
    "print(log_df.dtypes)"
   ],
   "id": "7b6be8103b92d53b",
   "outputs": [
    {
     "name": "stdout",
     "output_type": "stream",
     "text": [
      "0   2025-05-21 10:44:41\n",
      "1   2025-05-21 10:44:11\n",
      "2   2025-05-21 10:40:08\n",
      "3   2025-05-21 10:40:08\n",
      "4   2025-05-21 10:40:07\n",
      "Name: TimeCreated, dtype: datetime64[ns]\n",
      "TimeCreated         datetime64[ns]\n",
      "Id                           int64\n",
      "LevelDisplayName            object\n",
      "ProviderName                object\n",
      "Message                     object\n",
      "LogName                     object\n",
      "dtype: object\n"
     ]
    }
   ],
   "execution_count": 23
  },
  {
   "metadata": {
    "ExecuteTime": {
     "end_time": "2025-05-21T06:35:02.459712Z",
     "start_time": "2025-05-21T06:35:02.452302Z"
    }
   },
   "cell_type": "code",
   "source": "# TimeCreated column is converted to datetime format datetime64[ns]\n",
   "id": "646f91e45d76e438",
   "outputs": [],
   "execution_count": 24
  },
  {
   "metadata": {
    "ExecuteTime": {
     "end_time": "2025-05-21T06:35:46.158616Z",
     "start_time": "2025-05-21T06:35:46.150921Z"
    }
   },
   "cell_type": "code",
   "source": [
    "# minimum and maximum date in the TimeCreated column\n",
    "min_date= log_df['TimeCreated'].min()\n",
    "max_date= log_df['TimeCreated'].max()"
   ],
   "id": "5e184d5fbdf4079",
   "outputs": [
    {
     "name": "stdout",
     "output_type": "stream",
     "text": [
      "2025-04-21 19:43:02\n",
      "2025-05-21 10:51:28\n"
     ]
    }
   ],
   "execution_count": 26
  },
  {
   "metadata": {},
   "cell_type": "markdown",
   "source": [
    "## *Temporal Event Sequence Analysis*\n",
    "goal: Identify patterns in the order/timing of events\n",
    "\n",
    "### *method*\n",
    "1. Lag analysis:Compute time differences between consecutive events of specific Id or ProviderName (e.g., security-related events like 4624 [logon] and 4625 [failed logon]).\n",
    "2. Markov Chains: Model transition probabilities between event types (e.g., likelihood of an \"Error\" following a \"Warning\").\n",
    "3. Sequence Mining: Use algorithms like SPADE to discover frequent event sequences (e.g., repeated failed logons followed by a successful logon)."
   ],
   "id": "d03268050ac5bdf3"
  },
  {
   "metadata": {},
   "cell_type": "code",
   "outputs": [],
   "execution_count": null,
   "source": [
    "#we will sort the dataframe by TimeCreated column\n",
    "log_df =log_df.sorted_values(by='TimeCreated')\n",
    "\n",
    "#lag analysis\n"
   ],
   "id": "ea14509afdca696f"
  }
 ],
 "metadata": {
  "kernelspec": {
   "display_name": "Python 3",
   "language": "python",
   "name": "python3"
  },
  "language_info": {
   "codemirror_mode": {
    "name": "ipython",
    "version": 2
   },
   "file_extension": ".py",
   "mimetype": "text/x-python",
   "name": "python",
   "nbconvert_exporter": "python",
   "pygments_lexer": "ipython2",
   "version": "2.7.6"
  },
  "colab": {
   "provenance": [],
   "toc_visible": true
  }
 },
 "nbformat": 4,
 "nbformat_minor": 5
}
