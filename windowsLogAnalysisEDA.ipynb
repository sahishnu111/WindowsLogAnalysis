{
 "cells": [
  {
   "cell_type": "markdown",
   "source": [
    "# **EDA analysis of Windows Log**"
   ],
   "metadata": {
    "id": "uB5Qn5NCa8JX"
   },
   "id": "uB5Qn5NCa8JX"
  },
  {
   "cell_type": "code",
   "id": "initial_id",
   "metadata": {
    "collapsed": true,
    "ExecuteTime": {
     "end_time": "2025-05-21T05:51:43.095132Z",
     "start_time": "2025-05-21T05:51:43.092014Z"
    },
    "id": "initial_id"
   },
   "source": [
    "# EDA analysis of Windows Log"
   ],
   "outputs": [],
   "execution_count": 1
  },
  {
   "metadata": {
    "id": "192d3d3c22a7f9ca",
    "ExecuteTime": {
     "end_time": "2025-05-21T06:03:07.040840Z",
     "start_time": "2025-05-21T06:03:07.036510Z"
    }
   },
   "cell_type": "code",
   "source": [
    "#imprting libraries\n",
    "import pandas as pd\n",
    "import matplotlib.pyplot as plt\n",
    "import seaborn as sns\n",
    "import os"
   ],
   "id": "192d3d3c22a7f9ca",
   "outputs": [],
   "execution_count": 1
  },
  {
   "metadata": {
    "ExecuteTime": {
     "end_time": "2025-05-21T06:03:34.140205Z",
     "start_time": "2025-05-21T06:03:34.109192Z"
    }
   },
   "cell_type": "code",
   "source": [
    "# configuring matplotlib for inline plotting means that the plots will be displayed in the notebook\n",
    "%matplotlib inline"
   ],
   "id": "92101889728e3c1f",
   "outputs": [],
   "execution_count": 2
  },
  {
   "metadata": {
    "ExecuteTime": {
     "end_time": "2025-05-21T06:08:40.843339Z",
     "start_time": "2025-05-21T06:08:40.838056Z"
    }
   },
   "cell_type": "code",
   "source": [
    "# configuring \n",
    "# defining base directory as current working directory\n",
    "base_dir = os.getcwd()\n",
    "# defining the path to the log file data .csv file\n",
    "log_file_path = os.path.join(base_dir,'data','WindowsEventLogs_Last30Days.csv')\n"
   ],
   "id": "e6e8c684c4a37ff2",
   "outputs": [],
   "execution_count": 7
  },
  {
   "metadata": {
    "ExecuteTime": {
     "end_time": "2025-05-21T06:08:41.454Z",
     "start_time": "2025-05-21T06:08:41.274171Z"
    }
   },
   "cell_type": "code",
   "source": [
    "# reading the log file data into a pandas dataframe\n",
    "log_df = pd.read_csv(log_file_path)\n",
    "print(log_df.head())"
   ],
   "id": "2dad7b8c0cfad43",
   "outputs": [
    {
     "name": "stdout",
     "output_type": "stream",
     "text": [
      "           TimeCreated     Id LevelDisplayName  \\\n",
      "0  21-05-2025 10:44:41  16384      Information   \n",
      "1  21-05-2025 10:44:11  16394      Information   \n",
      "2  21-05-2025 10:40:08      1      Information   \n",
      "3  21-05-2025 10:40:08      1      Information   \n",
      "4  21-05-2025 10:40:07      1      Information   \n",
      "\n",
      "                     ProviderName  \\\n",
      "0  Microsoft-Windows-Security-SPP   \n",
      "1  Microsoft-Windows-Security-SPP   \n",
      "2                 Universal Print   \n",
      "3                 Universal Print   \n",
      "4                 Universal Print   \n",
      "\n",
      "                                             Message      LogName  \n",
      "0  Successfully scheduled Software Protection ser...  Application  \n",
      "1             Offline downlevel migration succeeded.  Application  \n",
      "2  Initialization Successful. Enabled=false, Clou...  Application  \n",
      "3  Universal Print is not enabled in the user's t...  Application  \n",
      "4  Successfully received access_token for 0000000...  Application  \n"
     ]
    }
   ],
   "execution_count": 8
  },
  {
   "metadata": {},
   "cell_type": "markdown",
   "source": "we have dataframe with 6 columns and 49201 rows ",
   "id": "e0fb54d74607a1c"
  },
  {
   "metadata": {
    "ExecuteTime": {
     "end_time": "2025-05-21T06:10:35.110226Z",
     "start_time": "2025-05-21T06:10:35.106183Z"
    }
   },
   "cell_type": "code",
   "source": [
    "# checking the shape of the dataframe\n",
    "print(log_df.shape)"
   ],
   "id": "6c5a4fe5b0cd2b4b",
   "outputs": [
    {
     "name": "stdout",
     "output_type": "stream",
     "text": [
      "(49201, 6)\n"
     ]
    }
   ],
   "execution_count": 10
  },
  {
   "metadata": {},
   "cell_type": "markdown",
   "source": "we have columns TimeCreated, Id, LevelDisplayName, ProviderName, Message, LogName with data type as object except Id which is int64",
   "id": "f54be2daec141d81"
  },
  {
   "metadata": {
    "ExecuteTime": {
     "end_time": "2025-05-21T06:11:18.467053Z",
     "start_time": "2025-05-21T06:11:18.463185Z"
    }
   },
   "cell_type": "code",
   "source": [
    "# columns of dataframe\n",
    "print(log_df.columns)"
   ],
   "id": "8b2ad193cde3c6f0",
   "outputs": [
    {
     "name": "stdout",
     "output_type": "stream",
     "text": [
      "Index(['TimeCreated', 'Id', 'LevelDisplayName', 'ProviderName', 'Message',\n",
      "       'LogName'],\n",
      "      dtype='object')\n"
     ]
    }
   ],
   "execution_count": 11
  },
  {
   "metadata": {
    "ExecuteTime": {
     "end_time": "2025-05-21T06:13:23.550776Z",
     "start_time": "2025-05-21T06:13:23.543189Z"
    }
   },
   "cell_type": "code",
   "source": [
    "# checking the data types of the columns\n",
    "print(log_df.dtypes)"
   ],
   "id": "67cc4d74fa821780",
   "outputs": [
    {
     "name": "stdout",
     "output_type": "stream",
     "text": [
      "TimeCreated         object\n",
      "Id                   int64\n",
      "LevelDisplayName    object\n",
      "ProviderName        object\n",
      "Message             object\n",
      "LogName             object\n",
      "dtype: object\n"
     ]
    }
   ],
   "execution_count": 12
  },
  {
   "metadata": {
    "ExecuteTime": {
     "end_time": "2025-05-21T06:17:37.045460Z",
     "start_time": "2025-05-21T06:17:37.019997Z"
    }
   },
   "cell_type": "code",
   "source": [
    "# we will do data cleaning and data preprocessing\n",
    "\n",
    "# checking for null values in the dataframe\n",
    "# we will also print the row of the dataframe which has null values\n",
    "print(log_df[log_df.isnull().any(axis=1)])\n",
    "print(log_df.isnull().sum())"
   ],
   "id": "35bf1ba1f0b9d8d2",
   "outputs": [
    {
     "name": "stdout",
     "output_type": "stream",
     "text": [
      "               TimeCreated    Id LevelDisplayName              ProviderName  \\\n",
      "63     21-05-2025 10:30:40  9997      Information               Application   \n",
      "95     21-05-2025 10:29:11     0              NaN  RtkAudioUniversalService   \n",
      "96     21-05-2025 10:29:11     0              NaN           SynTPEnhService   \n",
      "108    21-05-2025 03:19:51     0              NaN  RtkAudioUniversalService   \n",
      "115    21-05-2025 03:19:49     0              NaN           SynTPEnhService   \n",
      "...                    ...   ...              ...                       ...   \n",
      "49127  22-04-2025 02:30:55  7021      Information                  Netwtw14   \n",
      "49159  21-04-2025 22:43:44  7021      Information                  Netwtw14   \n",
      "49161  21-04-2025 22:41:14  7021      Information                  Netwtw14   \n",
      "49166  21-04-2025 22:37:56  7021      Information                  Netwtw14   \n",
      "49195  21-04-2025 19:43:04  7021      Information                  Netwtw14   \n",
      "\n",
      "      Message      LogName  \n",
      "63        NaN  Application  \n",
      "95        NaN  Application  \n",
      "96        NaN  Application  \n",
      "108       NaN  Application  \n",
      "115       NaN  Application  \n",
      "...       ...          ...  \n",
      "49127     NaN       System  \n",
      "49159     NaN       System  \n",
      "49161     NaN       System  \n",
      "49166     NaN       System  \n",
      "49195     NaN       System  \n",
      "\n",
      "[970 rows x 6 columns]\n",
      "TimeCreated           0\n",
      "Id                    0\n",
      "LevelDisplayName    345\n",
      "ProviderName          0\n",
      "Message             970\n",
      "LogName               0\n",
      "dtype: int64\n"
     ]
    }
   ],
   "execution_count": 15
  },
  {
   "metadata": {},
   "cell_type": "markdown",
   "source": "after removing the null values we will have 48231 rows and 6 columns ",
   "id": "822a3ce662ae55c5"
  },
  {
   "metadata": {
    "ExecuteTime": {
     "end_time": "2025-05-21T06:23:02.384816Z",
     "start_time": "2025-05-21T06:23:02.347792Z"
    }
   },
   "cell_type": "code",
   "source": [
    "# we will drop the null values from the dataframe\n",
    "log_df = log_df.dropna()\n",
    "# checking the shape of the dataframe after dropping null values\n",
    "print(log_df.shape)\n",
    "print(log_df.isnull().sum())\n"
   ],
   "id": "f0c6f67b281068ad",
   "outputs": [
    {
     "name": "stdout",
     "output_type": "stream",
     "text": [
      "(48231, 6)\n",
      "TimeCreated         0\n",
      "Id                  0\n",
      "LevelDisplayName    0\n",
      "ProviderName        0\n",
      "Message             0\n",
      "LogName             0\n",
      "dtype: int64\n"
     ]
    }
   ],
   "execution_count": 19
  },
  {
   "metadata": {},
   "cell_type": "code",
   "outputs": [],
   "execution_count": null,
   "source": "",
   "id": "80a9beb687e4ec33"
  },
  {
   "metadata": {},
   "cell_type": "markdown",
   "source": "",
   "id": "751b3004a4f8c3ac"
  },
  {
   "metadata": {},
   "cell_type": "markdown",
   "source": "# **now we will do Analysis of the data with different columns and their values in diffent ways**",
   "id": "1bca61e5959ef015"
  },
  {
   "metadata": {},
   "cell_type": "markdown",
   "source": [
    "first we will do analysis of the data with respect to TimeCreated column\n",
    "# *Timestamp Analysis*"
   ],
   "id": "e1da9c5e010710bb"
  },
  {
   "metadata": {
    "ExecuteTime": {
     "end_time": "2025-05-21T06:34:00.260745Z",
     "start_time": "2025-05-21T06:34:00.222288Z"
    }
   },
   "cell_type": "code",
   "source": [
    "# converting the TimeCreated column to datetime format\n",
    "log_df= log_df.copy()\n",
    "log_df['TimeCreated'] = pd.to_datetime(\n",
    "    log_df['TimeCreated'],\n",
    "    format='%d-%m-%Y %H:%M:%S'\n",
    ") #year/month/day hour/minute/\n",
    "print(log_df['TimeCreated'].head())\n",
    "print(log_df.dtypes)"
   ],
   "id": "7b6be8103b92d53b",
   "outputs": [
    {
     "name": "stdout",
     "output_type": "stream",
     "text": [
      "0   2025-05-21 10:44:41\n",
      "1   2025-05-21 10:44:11\n",
      "2   2025-05-21 10:40:08\n",
      "3   2025-05-21 10:40:08\n",
      "4   2025-05-21 10:40:07\n",
      "Name: TimeCreated, dtype: datetime64[ns]\n",
      "TimeCreated         datetime64[ns]\n",
      "Id                           int64\n",
      "LevelDisplayName            object\n",
      "ProviderName                object\n",
      "Message                     object\n",
      "LogName                     object\n",
      "dtype: object\n"
     ]
    }
   ],
   "execution_count": 23
  },
  {
   "metadata": {
    "ExecuteTime": {
     "end_time": "2025-05-21T06:35:02.459712Z",
     "start_time": "2025-05-21T06:35:02.452302Z"
    }
   },
   "cell_type": "code",
   "source": "# TimeCreated column is converted to datetime format datetime64[ns]\n",
   "id": "646f91e45d76e438",
   "outputs": [],
   "execution_count": 24
  },
  {
   "metadata": {
    "ExecuteTime": {
     "end_time": "2025-05-21T06:35:46.158616Z",
     "start_time": "2025-05-21T06:35:46.150921Z"
    }
   },
   "cell_type": "code",
   "source": [
    "# minimum and maximum date in the TimeCreated column\n",
    "min_date= log_df['TimeCreated'].min()\n",
    "max_date= log_df['TimeCreated'].max()"
   ],
   "id": "5e184d5fbdf4079",
   "outputs": [
    {
     "name": "stdout",
     "output_type": "stream",
     "text": [
      "2025-04-21 19:43:02\n",
      "2025-05-21 10:51:28\n"
     ]
    }
   ],
   "execution_count": 26
  },
  {
   "metadata": {},
   "cell_type": "markdown",
   "source": [
    "## *Temporal Event Sequence Analysis*\n",
    "goal: Identify patterns in the order/timing of events\n",
    "\n",
    "### *method*\n",
    "1. Lag analysis:Compute time differences between consecutive events of specific Id or ProviderName (e.g., security-related events like 4624 [logon] and 4625 [failed logon]).\n",
    "2. Markov Chains: Model transition probabilities between event types (e.g., likelihood of an \"Error\" following a \"Warning\").\n",
    "3. Sequence Mining: Use algorithms like SPADE to discover frequent event sequences (e.g., repeated failed logons followed by a successful logon)."
   ],
   "id": "d03268050ac5bdf3"
  },
  {
   "metadata": {
    "ExecuteTime": {
     "end_time": "2025-05-21T06:56:33.556619Z",
     "start_time": "2025-05-21T06:56:33.470807Z"
    }
   },
   "cell_type": "code",
   "source": [
    "#we will sort the dataframe by TimeCreated column\n",
    "log_df =log_df.sort_values(by='TimeCreated').reset_index(drop=True) #.reset_index(drop=True) will reset the index of the dataframe\n",
    "\n",
    "print(log_df.head())\n"
   ],
   "id": "ea14509afdca696f",
   "outputs": [
    {
     "name": "stdout",
     "output_type": "stream",
     "text": [
      "          TimeCreated    Id LevelDisplayName                    ProviderName  \\\n",
      "0 2025-04-21 19:43:02  6013      Information                        EventLog   \n",
      "1 2025-04-21 19:43:02   172      Information  Microsoft-Windows-Kernel-Power   \n",
      "2 2025-04-21 19:43:03  1008          Warning       Microsoft-Windows-Perflib   \n",
      "3 2025-04-21 19:43:03  1008          Warning       Microsoft-Windows-Perflib   \n",
      "4 2025-04-21 19:43:03  1008          Warning       Microsoft-Windows-Perflib   \n",
      "\n",
      "                                             Message      LogName  \n",
      "0                The system uptime is 37734 seconds.       System  \n",
      "1  Connectivity state in standby: Connected, Reas...       System  \n",
      "2  The Open procedure for service \"aspnet_state\" ...  Application  \n",
      "3  The Open procedure for service \"ASP.NET_4.0.30...  Application  \n",
      "4  The Open procedure for service \"ASP.NET\" in DL...  Application  \n"
     ]
    }
   ],
   "execution_count": 28
  },
  {
   "metadata": {},
   "cell_type": "markdown",
   "source": [
    "#### *Lag Analysis*\n",
    "Some critical Event IDs include:\n",
    "\n",
    " \n",
    "\n",
    "    4624: User successfully logged on to a computer\n",
    "    4625: Attempt made to logon with unknown user name or bad password and failed\n",
    "    4634: Logoff process completed for user\n",
    "    4647: User Initiated logoff\n",
    "    4648: User successfully logged on to a computer using explicit credentials while already logged on as different user\n",
    "    4779: User disconnected terminal server or virtual host session without logging off\n",
    "    4798: A user’s local group membership was enumerated.\n",
    "    4799: A security-enabled local group membership was enumerated\n",
    "    4820: A Kerberos Ticket-granting-ticket (TGT) was denied\n",
    "    4821: A Kerberos service ticket was denied because the user, device, or both does not meet the access control restrictions\n",
    "    4822: NTLM authentication failed because the account was a member of the Protected User group\n",
    "    4823: NTLM authentication failed because access control restrictions are required\n",
    "    4824: Kerberos pre-authentication by using DES or RC4 failed because the account was a member of the Protected User group\n",
    "    \n",
    "Some important Event IDs to consider include:\n",
    "\n",
    " \n",
    "\n",
    "    4103: PowerShell Module Logging\n",
    "    4104: PowerShell Script Block Logging\n",
    "    4656: Request to handle or access an object\n",
    "    4658: Handle to an object was closed\n",
    "    4659: Handle to an object was requested with intent to delete\n",
    "    4660: Object deleted\n",
    "    4663: Attempt to access object was made\n",
    "    4664: Attempt to create a hard link was made\n",
    "    4670: Object permissions were changed\n",
    "    4672: Special Privileges Assigned to New Logon\n",
    "    4673: Calling privileged service\n",
    "    4674: Attempted operation on a privileged object\n",
    "    4985: Transaction state change\n",
    "    4691: Indirect access to an object was requested.\n",
    "    4698: A scheduled task was created.\n",
    "    4699: A scheduled task was deleted.\n",
    "    4700: A scheduled task was enabled.\n",
    "    4701: A scheduled task was disabled.\n",
    "    4702: A scheduled task was updated.\n",
    "    5051: File was virtualized\n",
    "\n",
    "Microsoft Defender Antivirus Event IDs:\n",
    "\n",
    "    1002: malware scan stopped before completing scan\n",
    "    1003: malware scan paused\n",
    "    1005: malware scan failed\n",
    "    1006, 1116: malware or unwanted software detected\n",
    "    1007, 1117: action to protect system performed\n",
    "    1008, 1118: action to protect system failed\n",
    "    1009: item restored from quarantine\n",
    "    1012: unable to delete item in quarantine\n",
    "    1015: suspicious behavior detected\n",
    "    1119: critical error occurred when taking action\n",
    "\n"
   ],
   "id": "d3f2f58cd7e333a8"
  },
  {
   "metadata": {
    "ExecuteTime": {
     "end_time": "2025-05-21T07:27:02.428125Z",
     "start_time": "2025-05-21T07:27:02.093820Z"
    }
   },
   "cell_type": "code",
   "source": [
    "# lag analysis Goal: Compute time differences between consecutive events of specific Id\n",
    "# lets take the example of event id 4624 log on and 4625 failed log on\n",
    "\n",
    "event_id_4624 = 4624 #successful log on\n",
    "event_id_4625 = 4625 #failed log on\n",
    "\n",
    "\n",
    "lag_analysis_result= []\n",
    "\n",
    "#filter relevant events\n",
    "df_filtered_lag = log_df[log_df['Id'].isin([event_id_4624, event_id_4625])].copy()\n",
    "\n",
    "if df_filtered_lag.empty:\n",
    "    print(\"No relevant events found for lag analysis.\")\n",
    "else:\n",
    "    #currently doing global anylysis\n",
    "    df_global_lag = df_filtered_lag.sort_values(by='TimeCreated').reset_index(drop=True) #.reset_index(drop=True) will reset the index of the dataframe\n",
    "    \n",
    "    for i in range(len(df_global_lag)-1):\n",
    "        curr_event= df_global_lag.iloc[i]\n",
    "        next_event= df_global_lag.iloc[i+1]\n",
    "        if curr_event['Id']== event_id_4624 and next_event['Id']== event_id_4625:\n",
    "            time_diff = next_event['TimeCreated']-curr_event['TimeCreated']\n",
    "            lag_analysis_result.append({\n",
    "                'Group': 'Global',\n",
    "                'TimeEvent1': curr_event['TimeCreated'],\n",
    "                'IdEvent1': curr_event['Id'],\n",
    "                'TimeEvent2': next_event['TimeCreated'],\n",
    "                'IdEvent2': next_event['Id'],\n",
    "                'Lag_Seconds': time_diff\n",
    "                \n",
    "            })\n",
    "    \n",
    "if lag_analysis_result:\n",
    "    df_lags= pd.DataFrame(lag_analysis_result)\n",
    "    print('------Lag analysis result:-----')\n",
    "    display(df_lags.head())\n",
    "    \n",
    "    \n",
    "    print('descriptive statistics of lag analysis result:')\n",
    "    display(df_lags.describe())\n",
    "    \n",
    "    df_lags['Lag_Seconds'] = df_lags['Lag_Seconds'].dt.total_seconds()\n",
    "    df_lags =df_lags[df_lags['Lag_Seconds'].between(0, 360000000000000)] # filter out lag times greater than 10 days\n",
    "    plt.figure(figsize=(10,6))\n",
    "    sns.histplot(df_lags['Lag_Seconds'], bins=15, kde=True)\n",
    "    \n",
    "    #plt.xticks(f'distribution of lag time between event id {event_id_4624} and {event_id_4625}')\n",
    "    plt.xlabel('Lag Time (seconds)')\n",
    "    plt.ylabel('Frequency')\n",
    "    plt.grid()\n",
    "    plt.show()\n",
    "    \n",
    "    \n",
    "        \n",
    "\n"
   ],
   "id": "2fdffaccb07d7ff",
   "outputs": [
    {
     "name": "stdout",
     "output_type": "stream",
     "text": [
      "------Lag analysis result:-----\n"
     ]
    },
    {
     "data": {
      "text/plain": [
       "    Group          TimeEvent1  IdEvent1          TimeEvent2  IdEvent2  \\\n",
       "0  Global 2025-05-18 17:29:15      4624 2025-05-18 17:29:16      4625   \n",
       "1  Global 2025-05-18 18:42:36      4624 2025-05-18 18:58:31      4625   \n",
       "2  Global 2025-05-18 19:04:17      4624 2025-05-18 19:04:35      4625   \n",
       "3  Global 2025-05-19 20:16:36      4624 2025-05-19 20:16:37      4625   \n",
       "4  Global 2025-05-20 10:21:50      4624 2025-05-20 10:21:50      4625   \n",
       "\n",
       "      Lag_Seconds  \n",
       "0 0 days 00:00:01  \n",
       "1 0 days 00:15:55  \n",
       "2 0 days 00:00:18  \n",
       "3 0 days 00:00:01  \n",
       "4 0 days 00:00:00  "
      ],
      "text/html": [
       "<div>\n",
       "<style scoped>\n",
       "    .dataframe tbody tr th:only-of-type {\n",
       "        vertical-align: middle;\n",
       "    }\n",
       "\n",
       "    .dataframe tbody tr th {\n",
       "        vertical-align: top;\n",
       "    }\n",
       "\n",
       "    .dataframe thead th {\n",
       "        text-align: right;\n",
       "    }\n",
       "</style>\n",
       "<table border=\"1\" class=\"dataframe\">\n",
       "  <thead>\n",
       "    <tr style=\"text-align: right;\">\n",
       "      <th></th>\n",
       "      <th>Group</th>\n",
       "      <th>TimeEvent1</th>\n",
       "      <th>IdEvent1</th>\n",
       "      <th>TimeEvent2</th>\n",
       "      <th>IdEvent2</th>\n",
       "      <th>Lag_Seconds</th>\n",
       "    </tr>\n",
       "  </thead>\n",
       "  <tbody>\n",
       "    <tr>\n",
       "      <th>0</th>\n",
       "      <td>Global</td>\n",
       "      <td>2025-05-18 17:29:15</td>\n",
       "      <td>4624</td>\n",
       "      <td>2025-05-18 17:29:16</td>\n",
       "      <td>4625</td>\n",
       "      <td>0 days 00:00:01</td>\n",
       "    </tr>\n",
       "    <tr>\n",
       "      <th>1</th>\n",
       "      <td>Global</td>\n",
       "      <td>2025-05-18 18:42:36</td>\n",
       "      <td>4624</td>\n",
       "      <td>2025-05-18 18:58:31</td>\n",
       "      <td>4625</td>\n",
       "      <td>0 days 00:15:55</td>\n",
       "    </tr>\n",
       "    <tr>\n",
       "      <th>2</th>\n",
       "      <td>Global</td>\n",
       "      <td>2025-05-18 19:04:17</td>\n",
       "      <td>4624</td>\n",
       "      <td>2025-05-18 19:04:35</td>\n",
       "      <td>4625</td>\n",
       "      <td>0 days 00:00:18</td>\n",
       "    </tr>\n",
       "    <tr>\n",
       "      <th>3</th>\n",
       "      <td>Global</td>\n",
       "      <td>2025-05-19 20:16:36</td>\n",
       "      <td>4624</td>\n",
       "      <td>2025-05-19 20:16:37</td>\n",
       "      <td>4625</td>\n",
       "      <td>0 days 00:00:01</td>\n",
       "    </tr>\n",
       "    <tr>\n",
       "      <th>4</th>\n",
       "      <td>Global</td>\n",
       "      <td>2025-05-20 10:21:50</td>\n",
       "      <td>4624</td>\n",
       "      <td>2025-05-20 10:21:50</td>\n",
       "      <td>4625</td>\n",
       "      <td>0 days 00:00:00</td>\n",
       "    </tr>\n",
       "  </tbody>\n",
       "</table>\n",
       "</div>"
      ]
     },
     "metadata": {},
     "output_type": "display_data"
    },
    {
     "name": "stdout",
     "output_type": "stream",
     "text": [
      "descriptive statistics of lag analysis result:\n"
     ]
    },
    {
     "data": {
      "text/plain": [
       "                          TimeEvent1  IdEvent1                     TimeEvent2  \\\n",
       "count                              6       6.0                              6   \n",
       "mean   2025-05-19 16:03:57.333333248    4624.0  2025-05-19 16:06:39.833333504   \n",
       "min              2025-05-18 17:29:15    4624.0            2025-05-18 17:29:16   \n",
       "25%    2025-05-18 18:48:01.249999872    4624.0            2025-05-18 19:00:02   \n",
       "50%       2025-05-19 07:40:26.500000    4624.0            2025-05-19 07:40:36   \n",
       "75%       2025-05-20 06:50:31.500000    4624.0  2025-05-20 06:50:31.750000128   \n",
       "max              2025-05-21 10:29:10    4624.0            2025-05-21 10:29:10   \n",
       "std                              NaN       0.0                            NaN   \n",
       "\n",
       "       IdEvent2                Lag_Seconds  \n",
       "count       6.0                          6  \n",
       "mean     4625.0     0 days 00:02:42.500000  \n",
       "min      4625.0            0 days 00:00:00  \n",
       "25%      4625.0     0 days 00:00:00.250000  \n",
       "50%      4625.0            0 days 00:00:01  \n",
       "75%      4625.0     0 days 00:00:13.750000  \n",
       "max      4625.0            0 days 00:15:55  \n",
       "std         0.0  0 days 00:06:28.307481256  "
      ],
      "text/html": [
       "<div>\n",
       "<style scoped>\n",
       "    .dataframe tbody tr th:only-of-type {\n",
       "        vertical-align: middle;\n",
       "    }\n",
       "\n",
       "    .dataframe tbody tr th {\n",
       "        vertical-align: top;\n",
       "    }\n",
       "\n",
       "    .dataframe thead th {\n",
       "        text-align: right;\n",
       "    }\n",
       "</style>\n",
       "<table border=\"1\" class=\"dataframe\">\n",
       "  <thead>\n",
       "    <tr style=\"text-align: right;\">\n",
       "      <th></th>\n",
       "      <th>TimeEvent1</th>\n",
       "      <th>IdEvent1</th>\n",
       "      <th>TimeEvent2</th>\n",
       "      <th>IdEvent2</th>\n",
       "      <th>Lag_Seconds</th>\n",
       "    </tr>\n",
       "  </thead>\n",
       "  <tbody>\n",
       "    <tr>\n",
       "      <th>count</th>\n",
       "      <td>6</td>\n",
       "      <td>6.0</td>\n",
       "      <td>6</td>\n",
       "      <td>6.0</td>\n",
       "      <td>6</td>\n",
       "    </tr>\n",
       "    <tr>\n",
       "      <th>mean</th>\n",
       "      <td>2025-05-19 16:03:57.333333248</td>\n",
       "      <td>4624.0</td>\n",
       "      <td>2025-05-19 16:06:39.833333504</td>\n",
       "      <td>4625.0</td>\n",
       "      <td>0 days 00:02:42.500000</td>\n",
       "    </tr>\n",
       "    <tr>\n",
       "      <th>min</th>\n",
       "      <td>2025-05-18 17:29:15</td>\n",
       "      <td>4624.0</td>\n",
       "      <td>2025-05-18 17:29:16</td>\n",
       "      <td>4625.0</td>\n",
       "      <td>0 days 00:00:00</td>\n",
       "    </tr>\n",
       "    <tr>\n",
       "      <th>25%</th>\n",
       "      <td>2025-05-18 18:48:01.249999872</td>\n",
       "      <td>4624.0</td>\n",
       "      <td>2025-05-18 19:00:02</td>\n",
       "      <td>4625.0</td>\n",
       "      <td>0 days 00:00:00.250000</td>\n",
       "    </tr>\n",
       "    <tr>\n",
       "      <th>50%</th>\n",
       "      <td>2025-05-19 07:40:26.500000</td>\n",
       "      <td>4624.0</td>\n",
       "      <td>2025-05-19 07:40:36</td>\n",
       "      <td>4625.0</td>\n",
       "      <td>0 days 00:00:01</td>\n",
       "    </tr>\n",
       "    <tr>\n",
       "      <th>75%</th>\n",
       "      <td>2025-05-20 06:50:31.500000</td>\n",
       "      <td>4624.0</td>\n",
       "      <td>2025-05-20 06:50:31.750000128</td>\n",
       "      <td>4625.0</td>\n",
       "      <td>0 days 00:00:13.750000</td>\n",
       "    </tr>\n",
       "    <tr>\n",
       "      <th>max</th>\n",
       "      <td>2025-05-21 10:29:10</td>\n",
       "      <td>4624.0</td>\n",
       "      <td>2025-05-21 10:29:10</td>\n",
       "      <td>4625.0</td>\n",
       "      <td>0 days 00:15:55</td>\n",
       "    </tr>\n",
       "    <tr>\n",
       "      <th>std</th>\n",
       "      <td>NaN</td>\n",
       "      <td>0.0</td>\n",
       "      <td>NaN</td>\n",
       "      <td>0.0</td>\n",
       "      <td>0 days 00:06:28.307481256</td>\n",
       "    </tr>\n",
       "  </tbody>\n",
       "</table>\n",
       "</div>"
      ]
     },
     "metadata": {},
     "output_type": "display_data"
    },
    {
     "data": {
      "text/plain": [
       "<Figure size 1000x600 with 1 Axes>"
      ],
      "image/png": "[encoded data removed]"
     },
     "metadata": {},
     "output_type": "display_data"
    }
   ],
   "execution_count": 47
  },
  {
   "metadata": {},
   "cell_type": "code",
   "outputs": [],
   "execution_count": null,
   "source": "",
   "id": "73ce63d04c59aea0"
  }
 ],
 "metadata": {
  "kernelspec": {
   "display_name": "Python 3",
   "language": "python",
   "name": "python3"
  },
  "language_info": {
   "codemirror_mode": {
    "name": "ipython",
    "version": 2
   },
   "file_extension": ".py",
   "mimetype": "text/x-python",
   "name": "python",
   "nbconvert_exporter": "python",
   "pygments_lexer": "ipython2",
   "version": "2.7.6"
  },
  "colab": {
   "provenance": [],
   "toc_visible": true
  }
 },
 "nbformat": 4,
 "nbformat_minor": 5
}
